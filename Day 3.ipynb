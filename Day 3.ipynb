{
 "cells": [
  {
   "cell_type": "code",
   "execution_count": 1,
   "metadata": {},
   "outputs": [
    {
     "name": "stdout",
     "output_type": "stream",
     "text": [
      "45\n"
     ]
    }
   ],
   "source": [
    "x=sum(x for x in range(10))\n",
    "print(x)\n"
   ]
  },
  {
   "cell_type": "code",
   "execution_count": 2,
   "metadata": {},
   "outputs": [
    {
     "name": "stdout",
     "output_type": "stream",
     "text": [
      "55\n"
     ]
    }
   ],
   "source": [
    "a=0\n",
    "for i in range(11):\n",
    "    a+=i\n",
    "print(a)\n"
   ]
  },
  {
   "cell_type": "code",
   "execution_count": 3,
   "metadata": {},
   "outputs": [
    {
     "name": "stdout",
     "output_type": "stream",
     "text": [
      "7\n"
     ]
    }
   ],
   "source": [
    "user =input()\n",
    "if user==user:\n",
    "    count=user.count(\"a\")\n",
    "    print(count)"
   ]
  },
  {
   "cell_type": "code",
   "execution_count": 9,
   "metadata": {},
   "outputs": [
    {
     "name": "stdout",
     "output_type": "stream",
     "text": [
      "['amaldass', 'kowsi']\n"
     ]
    }
   ],
   "source": [
    "a=input()\n",
    "b=a.split()\n",
    "print(b)"
   ]
  },
  {
   "cell_type": "code",
   "execution_count": 11,
   "metadata": {},
   "outputs": [
    {
     "name": "stdout",
     "output_type": "stream",
     "text": [
      "0\n"
     ]
    }
   ],
   "source": [
    "a=input()\n",
    "count=0\n",
    "for i in a:\n",
    "    if i==\"a\":\n",
    "        count+=1\n",
    "print(count)\n"
   ]
  },
  {
   "cell_type": "code",
   "execution_count": 12,
   "metadata": {},
   "outputs": [
    {
     "name": "stdout",
     "output_type": "stream",
     "text": [
      "amaldass\n",
      "a\n",
      "m\n",
      "a\n",
      "l\n",
      "d\n",
      "a\n",
      "s\n",
      "s\n",
      "3\n"
     ]
    }
   ],
   "source": [
    "a=input()\n",
    "b=a.split()\n",
    "for i in b:\n",
    "    print(i)\n",
    "    count=0\n",
    "    for x in i:\n",
    "        print(x)\n",
    "        if x==\"a\":\n",
    "            count+=1\n",
    "    print(count)"
   ]
  },
  {
   "cell_type": "code",
   "execution_count": 14,
   "metadata": {},
   "outputs": [
    {
     "name": "stdout",
     "output_type": "stream",
     "text": [
      "7543351.0\n"
     ]
    }
   ],
   "source": [
    "a=input().split()\n",
    "for b in a:\n",
    " print(float(b))"
   ]
  },
  {
   "cell_type": "code",
   "execution_count": 15,
   "metadata": {},
   "outputs": [
    {
     "name": "stdout",
     "output_type": "stream",
     "text": [
      "a,m,a,l,s,a,s,s\n"
     ]
    }
   ],
   "source": [
    "# Read input\n",
    "string = input()\n",
    "\n",
    "# Split the string into individual characters and join them with commas\n",
    "result = \",\".join(string)\n",
    "\n",
    "# Print output\n",
    "print(result)\n"
   ]
  },
  {
   "cell_type": "code",
   "execution_count": 5,
   "metadata": {},
   "outputs": [
    {
     "name": "stdout",
     "output_type": "stream",
     "text": [
      "************ 0\n",
      "0\n",
      "1\n",
      "2\n",
      "3\n",
      "4\n",
      "5\n",
      "6\n",
      "7\n",
      "8\n",
      "************ 1\n",
      "0\n",
      "1\n",
      "2\n",
      "3\n",
      "4\n",
      "5\n",
      "6\n",
      "7\n",
      "8\n",
      "************ 2\n",
      "0\n",
      "1\n",
      "2\n",
      "3\n",
      "4\n",
      "5\n",
      "6\n",
      "7\n",
      "8\n"
     ]
    }
   ],
   "source": [
    "for j in range(3):\n",
    "    print(\"************\",j)\n",
    "    for i in range (10):\n",
    "        if i == 9:\n",
    "            break\n",
    "        print(i)\n",
    "            \n",
    "    \n"
   ]
  },
  {
   "cell_type": "code",
   "execution_count": 5,
   "metadata": {},
   "outputs": [
    {
     "name": "stdout",
     "output_type": "stream",
     "text": [
      "['kamal dass', 'rajani kanth', 'amal dass']\n"
     ]
    }
   ],
   "source": [
    "i=(\"kamal\",\"rajani\",\"amal\")\n",
    "j=(\"dass\",\"kanth\",\"dass\")\n",
    "result=(i+\" \"+j for i ,j in zip(i,j))\n",
    "print(list(result))"
   ]
  },
  {
   "cell_type": "code",
   "execution_count": 1,
   "metadata": {},
   "outputs": [
    {
     "name": "stdout",
     "output_type": "stream",
     "text": [
      "Rajini Khanth\n",
      "Kamal Hassan\n",
      "Aiswarya Rai\n"
     ]
    }
   ],
   "source": [
    "# task 1\n",
    "\n",
    "for i in [\"Rajini\",\"Kamal\",\"Aiswarya\"]:\n",
    "    for j in [\"Khanth\",\"Hassan\",\"Rai\"]:\n",
    "        a = [\"Rajini\",\"Kamal\",\"Aiswarya\"].index(i)\n",
    "        b = [\"Khanth\",\"Hassan\",\"Rai\"].index(j)\n",
    "        if a == b:\n",
    "            print(i,j)\n"
   ]
  },
  {
   "cell_type": "code",
   "execution_count": 12,
   "metadata": {},
   "outputs": [
    {
     "name": "stdout",
     "output_type": "stream",
     "text": [
      "['a', 'k']\n",
      "['m', 'o']\n",
      "['a', 'w']\n",
      "['l', 's']\n",
      "['d', 'i']\n"
     ]
    }
   ],
   "source": [
    "i=input()\n",
    "k=input()\n",
    "c=zip(i,k)\n",
    "for i in  c:\n",
    "    print(list(i))\n"
   ]
  },
  {
   "cell_type": "code",
   "execution_count": 13,
   "metadata": {},
   "outputs": [
    {
     "name": "stdout",
     "output_type": "stream",
     "text": [
      "10 30\n"
     ]
    }
   ],
   "source": [
    "a,b=(10,30)\n",
    "print(a,b)"
   ]
  },
  {
   "cell_type": "code",
   "execution_count": 18,
   "metadata": {},
   "outputs": [],
   "source": [
    "# while works on particular condition \n",
    "\n",
    "# while loop is condition true only its stop \n",
    "\n"
   ]
  },
  {
   "cell_type": "code",
   "execution_count": 2,
   "metadata": {},
   "outputs": [
    {
     "name": "stdout",
     "output_type": "stream",
     "text": [
      "Montly maintance\n",
      "7900\n",
      "Montly maintance\n",
      "7800\n",
      "Montly maintance\n",
      "7700\n",
      "Montly maintance\n",
      "7600\n",
      "Montly maintance\n",
      "7500\n",
      "Montly maintance\n",
      "7400\n",
      "Montly maintance\n",
      "7300\n",
      "Montly maintance\n",
      "7200\n",
      "Montly maintance\n",
      "7100\n",
      "Montly maintance\n",
      "7000\n",
      "Montly maintance\n",
      "6900\n",
      "Montly maintance\n",
      "6800\n",
      "Montly maintance\n",
      "6700\n",
      "Montly maintance\n",
      "6600\n",
      "Montly maintance\n",
      "6500\n",
      "Montly maintance\n",
      "6400\n",
      "Montly maintance\n",
      "6300\n",
      "Montly maintance\n",
      "6200\n",
      "Montly maintance\n",
      "6100\n",
      "Montly maintance\n",
      "6000\n",
      "Montly maintance\n",
      "5900\n",
      "Montly maintance\n",
      "5800\n",
      "Montly maintance\n",
      "5700\n",
      "Montly maintance\n",
      "5600\n",
      "Montly maintance\n",
      "5500\n",
      "Montly maintance\n",
      "5400\n",
      "Montly maintance\n",
      "5300\n",
      "Montly maintance\n",
      "5200\n",
      "Montly maintance\n",
      "5100\n",
      "Montly maintance\n",
      "5000\n",
      "Montly maintance\n",
      "4900\n",
      "Montly maintance\n",
      "4800\n",
      "Montly maintance\n",
      "4700\n",
      "Montly maintance\n",
      "4600\n",
      "Montly maintance\n",
      "4500\n",
      "Montly maintance\n",
      "4400\n",
      "Montly maintance\n",
      "4300\n",
      "Montly maintance\n",
      "4200\n",
      "Montly maintance\n",
      "4100\n",
      "Montly maintance\n",
      "4000\n",
      "Montly maintance\n",
      "3900\n",
      "Montly maintance\n",
      "3800\n",
      "Montly maintance\n",
      "3700\n",
      "Montly maintance\n",
      "3600\n",
      "Montly maintance\n",
      "3500\n",
      "Montly maintance\n",
      "3400\n",
      "Montly maintance\n",
      "3300\n",
      "Montly maintance\n",
      "3200\n",
      "Montly maintance\n",
      "3100\n",
      "Montly maintance\n",
      "3000\n",
      "Montly maintance\n",
      "2900\n",
      "Montly maintance\n",
      "2800\n",
      "Montly maintance\n",
      "2700\n",
      "Montly maintance\n",
      "2600\n",
      "Montly maintance\n",
      "2500\n",
      "Montly maintance\n",
      "2400\n",
      "Montly maintance\n",
      "2300\n",
      "Montly maintance\n",
      "2200\n",
      "Montly maintance\n",
      "2100\n",
      "Montly maintance\n",
      "2000\n",
      "Montly maintance\n",
      "1900\n",
      "Montly maintance\n",
      "1800\n",
      "Montly maintance\n",
      "1700\n",
      "Montly maintance\n",
      "1600\n",
      "Montly maintance\n",
      "1500\n",
      "Montly maintance\n",
      "1400\n",
      "Montly maintance\n",
      "1300\n",
      "Montly maintance\n",
      "1200\n",
      "Montly maintance\n",
      "1100\n",
      "Montly maintance\n",
      "1000\n",
      "Montly maintance\n",
      "900\n",
      "Montly maintance\n",
      "800\n",
      "Montly maintance\n",
      "700\n",
      "Montly maintance\n",
      "600\n",
      "Montly maintance\n",
      "500\n",
      "Your balance is 0 requst you maontaine minimum balance\n"
     ]
    }
   ],
   "source": [
    "Accountbalance=8000\n",
    "while Accountbalance>500:\n",
    "    print(\"Montly maintance\")\n",
    "    Accountbalance = Accountbalance-100\n",
    "    print(Accountbalance)\n",
    "\n",
    "print(\"Your balance is 0 requst you maontaine minimum balance\")\n"
   ]
  },
  {
   "cell_type": "code",
   "execution_count": 3,
   "metadata": {},
   "outputs": [
    {
     "name": "stdout",
     "output_type": "stream",
     "text": [
      "85000 has been transferred\n",
      "Your remaining balance: 415000\n",
      "45000 has been transferred\n",
      "Your remaining balance: 370000\n",
      "2455 has been transferred\n",
      "Your remaining balance: 367545\n",
      "2155 has been transferred\n",
      "Your remaining balance: 365390\n",
      "2155 has been transferred\n",
      "Your remaining balance: 363235\n",
      "154544 has been transferred\n",
      "Your remaining balance: 208691\n",
      "1545 has been transferred\n",
      "Your remaining balance: 207146\n"
     ]
    },
    {
     "ename": "ValueError",
     "evalue": "invalid literal for int() with base 10: '1154+4+4+'",
     "output_type": "error",
     "traceback": [
      "\u001b[1;31m---------------------------------------------------------------------------\u001b[0m",
      "\u001b[1;31mValueError\u001b[0m                                Traceback (most recent call last)",
      "Cell \u001b[1;32mIn[3], line 4\u001b[0m\n\u001b[0;32m      2\u001b[0m limit \u001b[38;5;241m=\u001b[39m \u001b[38;5;241m1500\u001b[39m\n\u001b[0;32m      3\u001b[0m \u001b[38;5;28;01mwhile\u001b[39;00m limit \u001b[38;5;241m>\u001b[39m\u001b[38;5;241m0\u001b[39m:\n\u001b[1;32m----> 4\u001b[0m     withdraw \u001b[38;5;241m=\u001b[39m \u001b[38;5;28;43mint\u001b[39;49m\u001b[43m(\u001b[49m\u001b[38;5;28;43minput\u001b[39;49m\u001b[43m(\u001b[49m\u001b[38;5;124;43m\"\u001b[39;49m\u001b[38;5;124;43mEnter withdrawal amount: \u001b[39;49m\u001b[38;5;124;43m\"\u001b[39;49m\u001b[43m)\u001b[49m\u001b[43m)\u001b[49m\n\u001b[0;32m      5\u001b[0m     \u001b[38;5;28;01mif\u001b[39;00m withdraw \u001b[38;5;241m+\u001b[39m limit \u001b[38;5;241m>\u001b[39m\u001b[38;5;241m450000\u001b[39m:\n\u001b[0;32m      6\u001b[0m         \u001b[38;5;28mprint\u001b[39m(\u001b[38;5;124m\"\u001b[39m\u001b[38;5;124mTransaction declined due to existing limit\u001b[39m\u001b[38;5;124m\"\u001b[39m)\n",
      "\u001b[1;31mValueError\u001b[0m: invalid literal for int() with base 10: '1154+4+4+'"
     ]
    }
   ],
   "source": [
    "balance = 500000\n",
    "limit = 1500\n",
    "while limit >0:\n",
    "    withdraw = int(input(\"Enter withdrawal amount: \"))\n",
    "    if withdraw + limit >450000:\n",
    "        print(\"Transaction declined due to existing limit\")\n",
    "        break\n",
    "    else:\n",
    "        balance -= withdraw\n",
    "        print(str(withdraw) + \" has been transferred\")\n",
    "        print(\"Your remaining balance: \" + str(balance))\n",
    "        limit += withdraw\n",
    "\n",
    "print(\"Limit has been reached\")"
   ]
  },
  {
   "cell_type": "code",
   "execution_count": 4,
   "metadata": {},
   "outputs": [
    {
     "name": "stdout",
     "output_type": "stream",
     "text": [
      "[1, 2, 3, 4, 5, 6, 7, 8, 9]\n",
      "[1, 3, 5]\n"
     ]
    }
   ],
   "source": [
    "Name=[1,2,3,4,5,6,7,8,9]\n",
    "print(Name)\n",
    "print(Name[0:6:2])"
   ]
  },
  {
   "cell_type": "code",
   "execution_count": 5,
   "metadata": {},
   "outputs": [
    {
     "data": {
      "text/plain": [
       "[2, 3, 4, 5, 6, 7, 8, 9]"
      ]
     },
     "execution_count": 5,
     "metadata": {},
     "output_type": "execute_result"
    }
   ],
   "source": [
    "Name[1:15]"
   ]
  },
  {
   "cell_type": "code",
   "execution_count": 6,
   "metadata": {},
   "outputs": [
    {
     "name": "stdout",
     "output_type": "stream",
     "text": [
      "('a', 'b', 'c', 'd', 'e')\n"
     ]
    }
   ],
   "source": [
    "Name=('a','b','c','d','e','f','g')\n",
    "print(Name[0:5])"
   ]
  },
  {
   "cell_type": "code",
   "execution_count": 8,
   "metadata": {},
   "outputs": [
    {
     "name": "stdout",
     "output_type": "stream",
     "text": [
      "7257600\n"
     ]
    }
   ],
   "source": [
    "# Input\n",
    "n = int(input())\n",
    "\n",
    "# Initialize factorial to 1\n",
    "factorial = 2\n",
    "\n",
    "# Calculate factorial\n",
    "for i in range(1, n + 1):\n",
    "    factorial *= i\n",
    "\n",
    "# Output\n",
    "print(factorial)\n"
   ]
  },
  {
   "cell_type": "code",
   "execution_count": 12,
   "metadata": {},
   "outputs": [
    {
     "name": "stdout",
     "output_type": "stream",
     "text": [
      "['Arulmozhi', 'govindan', 'mithran', 'suvithara', 'amaldass', 'duriarashu', 'new one', 'kowsi', 'Kutty papa']\n"
     ]
    }
   ],
   "source": [
    "b = [\"Arulmozhi\", \"govindan\", \"suvithara\", \"amaldass\", \"duriarashu\"]\n",
    "b.append(\"new one\")\n",
    "b.extend([\"kowsi\",\"Kutty papa\"])\n",
    "a=input()\n",
    "b.insert(2,a)\n",
    "print(b)\n",
    " "
   ]
  },
  {
   "cell_type": "code",
   "execution_count": 11,
   "metadata": {},
   "outputs": [
    {
     "name": "stdout",
     "output_type": "stream",
     "text": [
      "['Arulmozhi', 'govindan', 'amaldass', 'suvithara', 'amaldass', 'duriarashu', 'new one', 'kowsi', 'Kutty papa']\n",
      "2\n"
     ]
    }
   ],
   "source": [
    "b = [\"Arulmozhi\", \"govindan\", \"suvithara\", \"amaldass\", \"duriarashu\"]\n",
    "b.append(\"new one\")\n",
    "b.extend([\"kowsi\",\"Kutty papa\"])\n",
    "a = input()\n",
    "b.insert(2, a)\n",
    "print(b)\n",
    "print(b.index(\"amaldass\"))\n"
   ]
  },
  {
   "cell_type": "code",
   "execution_count": 47,
   "metadata": {},
   "outputs": [
    {
     "name": "stdout",
     "output_type": "stream",
     "text": [
      "[1, 'hai', 5, 0, [1, 2, 4, 5], 9]\n"
     ]
    }
   ],
   "source": [
    "a=[1,\"hai\",5,0,[1,2,4,5],9]\n",
    "print(a)"
   ]
  },
  {
   "cell_type": "code",
   "execution_count": 49,
   "metadata": {},
   "outputs": [
    {
     "name": "stdout",
     "output_type": "stream",
     "text": [
      "[1, 'hai', 5, 0, [1, 2, 'guvi', 5], 9]\n"
     ]
    }
   ],
   "source": [
    "a[4][2]=\"guvi\"\n",
    "print(a)"
   ]
  },
  {
   "cell_type": "code",
   "execution_count": 13,
   "metadata": {},
   "outputs": [
    {
     "name": "stdout",
     "output_type": "stream",
     "text": [
      "[2, 'Roll number']\n"
     ]
    }
   ],
   "source": [
    "a=[]\n",
    "a.append(2)\n",
    "a.append(\"Roll number\")\n",
    "print(a)"
   ]
  },
  {
   "cell_type": "code",
   "execution_count": 21,
   "metadata": {},
   "outputs": [
    {
     "name": "stdout",
     "output_type": "stream",
     "text": [
      "[0, 1, 2, 3, 3, 4, 5, 7, 7, 8]\n",
      "2\n"
     ]
    }
   ],
   "source": [
    "B=[7,3,0,5,4,3,8,1,7,2]\n",
    "B.sort()\n",
    "print(B)\n",
    "print(B.count(7))"
   ]
  },
  {
   "cell_type": "code",
   "execution_count": 65,
   "metadata": {},
   "outputs": [
    {
     "name": "stdout",
     "output_type": "stream",
     "text": [
      "amaldass Govindan\n",
      "AMALDASS GOVINDAN\n",
      "17\n",
      "amaldass govindan\n",
      "Amaldass govindan\n",
      "AMALDASS gOVINDAN\n"
     ]
    }
   ],
   "source": [
    "a=(\"amaldass Govindan\")\n",
    "\n",
    "print(a)\n",
    "print(a.upper())\n",
    "print(len(a))\n",
    "print(a.lower())\n",
    "print(a.capitalize())\n",
    "print(a.swapcase())"
   ]
  },
  {
   "cell_type": "code",
   "execution_count": 70,
   "metadata": {},
   "outputs": [
    {
     "name": "stdout",
     "output_type": "stream",
     "text": [
      "Hello Mr/Ms:SUVI,how are You\n"
     ]
    }
   ],
   "source": [
    "Name=input(\"Enter Your name:\")\n",
    "print(F\"Hello Mr/Ms:{Name.upper()},how are You\")"
   ]
  },
  {
   "cell_type": "code",
   "execution_count": 13,
   "metadata": {},
   "outputs": [
    {
     "name": "stdout",
     "output_type": "stream",
     "text": [
      "amaldass Govindan Arulmozhi\n"
     ]
    }
   ],
   "source": [
    "A= (\"amaldass\",\"Arulmozhi\")\n",
    "\n",
    "D = \" Govindan \".join(A)\n",
    "print(D)"
   ]
  },
  {
   "cell_type": "code",
   "execution_count": 60,
   "metadata": {},
   "outputs": [
    {
     "name": "stdout",
     "output_type": "stream",
     "text": [
      "amaldass Govindan Arulmozhi\n"
     ]
    }
   ],
   "source": [
    "A = (\"amaldass\",\"Arulmozhi\")\n",
    "D = \" Govindan \".join(A)\n",
    "print(D)\n"
   ]
  },
  {
   "cell_type": "code",
   "execution_count": 62,
   "metadata": {},
   "outputs": [
    {
     "name": "stdout",
     "output_type": "stream",
     "text": [
      "Hello Mr.amaldass how are you \n"
     ]
    }
   ],
   "source": [
    "a=input()\n",
    "\n",
    "print(f\"Hello Mr.{a} how are you \")"
   ]
  },
  {
   "cell_type": "code",
   "execution_count": 63,
   "metadata": {},
   "outputs": [
    {
     "name": "stdout",
     "output_type": "stream",
     "text": [
      "G*amaldass*Govindan\n",
      "G amaldass govindan*Arulmozhi"
     ]
    }
   ],
   "source": [
    "print('G','amaldass','Govindan',sep='*')\n",
    "print('G','amaldass','govindan',end='*Arulmozhi')"
   ]
  },
  {
   "cell_type": "code",
   "execution_count": 64,
   "metadata": {},
   "outputs": [
    {
     "name": "stdout",
     "output_type": "stream",
     "text": [
      "{33, 222, 111}\n"
     ]
    }
   ],
   "source": [
    "a={111,33,33,111,222}\n",
    "print(a)"
   ]
  },
  {
   "cell_type": "code",
   "execution_count": 36,
   "metadata": {},
   "outputs": [
    {
     "name": "stdout",
     "output_type": "stream",
     "text": [
      "{'Name': 'amaldass', 'Education qualification': 'BE-Mechanical engineering', 'Job': 'SQL&PLSQL Devloper'}\n"
     ]
    }
   ],
   "source": [
    "#Dictonary concept \n",
    "\n",
    "A={\"Name\":\"amaldass\",\"Education qualification\":\"BE-Mechanical engineering\",\"Job\":\"SQL&PLSQL Devloper\"}\n",
    "print(A)"
   ]
  },
  {
   "cell_type": "code",
   "execution_count": 21,
   "metadata": {},
   "outputs": [
    {
     "name": "stdout",
     "output_type": "stream",
     "text": [
      "[1, 2, 3, 4, 5, 6, 7, 8, 9, 10, 11]\n"
     ]
    }
   ],
   "source": [
    "############ Phython type ###################\n",
    "\n",
    "######list\n",
    "Name=[1,2,3,4,5,6,7,8,9,10,11]\n",
    "print(Name)\n"
   ]
  },
  {
   "cell_type": "code",
   "execution_count": 22,
   "metadata": {},
   "outputs": [
    {
     "data": {
      "text/plain": [
       "[1, 2, 3, 4, 5]"
      ]
     },
     "execution_count": 22,
     "metadata": {},
     "output_type": "execute_result"
    }
   ],
   "source": [
    "Name[0:5]#------slice---"
   ]
  },
  {
   "cell_type": "code",
   "execution_count": 26,
   "metadata": {},
   "outputs": [
    {
     "data": {
      "text/plain": [
       "[1, 4, 7, 10]"
      ]
     },
     "execution_count": 26,
     "metadata": {},
     "output_type": "execute_result"
    }
   ],
   "source": [
    "Name[0:11:3]####[start:end:interval]"
   ]
  },
  {
   "cell_type": "code",
   "execution_count": 27,
   "metadata": {},
   "outputs": [
    {
     "name": "stdout",
     "output_type": "stream",
     "text": [
      "[1, 2, 'amaldass', 4, 5, 6, 7, 8, 9, 10, 11]\n"
     ]
    }
   ],
   "source": [
    "Name[2]=\"amaldass\"\n",
    "print(Name)"
   ]
  },
  {
   "cell_type": "code",
   "execution_count": 28,
   "metadata": {},
   "outputs": [
    {
     "name": "stdout",
     "output_type": "stream",
     "text": [
      "[1, 'hai', 5, 0, [1, 3, 5], 9]\n"
     ]
    }
   ],
   "source": [
    "a=[1,'hai',5,0,[1,3,5],9]\n",
    "print(a)"
   ]
  },
  {
   "cell_type": "code",
   "execution_count": 31,
   "metadata": {},
   "outputs": [
    {
     "name": "stdout",
     "output_type": "stream",
     "text": [
      "[1, 'hai', 5, 0, [1, 3, 'Guvi'], 9]\n"
     ]
    }
   ],
   "source": [
    "######Task 1####\n",
    "a[4][2]=\"Guvi\"\n",
    "print(a)"
   ]
  },
  {
   "cell_type": "code",
   "execution_count": 36,
   "metadata": {},
   "outputs": [
    {
     "name": "stdout",
     "output_type": "stream",
     "text": [
      "[1, 'hai', 5, 0, [1, 3, 'Guvi'], 9, 'amaldass']\n"
     ]
    }
   ],
   "source": [
    "a.append(\"amaldass\")\n",
    "print(a)"
   ]
  },
  {
   "cell_type": "code",
   "execution_count": 39,
   "metadata": {},
   "outputs": [
    {
     "name": "stdout",
     "output_type": "stream",
     "text": [
      "[2, 'hellow amaldass', [1, 2, 3], 4, 5, 6, 'kowsi']\n"
     ]
    }
   ],
   "source": [
    "b=[]\n",
    "b.append(2)\n",
    "b.append(\"hellow amaldass\")\n",
    "b.append([1,2,3])\n",
    "b.extend([4,5,6])\n",
    "b.append(input())\n",
    "print(b)"
   ]
  },
  {
   "cell_type": "code",
   "execution_count": 1,
   "metadata": {},
   "outputs": [
    {
     "name": "stdout",
     "output_type": "stream",
     "text": [
      "x == y: False\n",
      "x != y: True\n",
      "x > y: True\n",
      "x < y: False\n",
      "x >= y: True\n"
     ]
    }
   ],
   "source": [
    "# Comparison Operators\n",
    "x = 10\n",
    "y = 5\n",
    "\n",
    "\n",
    "# Equal to (==)\n",
    "print(\"x == y:\", x == y)  # False\n",
    "\n",
    "\n",
    "# Not equal to (!=)\n",
    "print(\"x != y:\", x != y)  # True\n",
    "\n",
    "\n",
    "# Greater than (>)\n",
    "print(\"x > y:\", x > y)  # True\n",
    "\n",
    "\n",
    "# Less than (<)\n",
    "print(\"x < y:\", x < y)  # False\n",
    "\n",
    "\n",
    "# Greater than or equal to (>=)\n",
    "print(\"x >= y:\", x >= y)  # True"
   ]
  },
  {
   "cell_type": "code",
   "execution_count": 10,
   "metadata": {},
   "outputs": [
    {
     "name": "stdout",
     "output_type": "stream",
     "text": [
      "True\n",
      "False\n",
      "False\n",
      "True\n",
      "True\n"
     ]
    }
   ],
   "source": [
    "print(True and True)\n",
    "print(False and True)\n",
    "print(False and False)\n",
    "print(True or False)\n",
    "print(True or True)"
   ]
  },
  {
   "cell_type": "code",
   "execution_count": 13,
   "metadata": {},
   "outputs": [
    {
     "name": "stdout",
     "output_type": "stream",
     "text": [
      "False\n",
      "True\n",
      "True\n"
     ]
    }
   ],
   "source": [
    "print(not True)\n",
    "print(not False)\n",
    "print(True or False and True)"
   ]
  },
  {
   "cell_type": "code",
   "execution_count": 2,
   "metadata": {},
   "outputs": [
    {
     "name": "stdout",
     "output_type": "stream",
     "text": [
      "Welcome to my learning portel kowslay amaldass\n",
      "Your password set sussessfully\n",
      "Here are your details:\n",
      "Username: kowslay amaldass\n",
      "Password: 4521346564\n",
      "Date of Birth:01-Sep-1996\n",
      "Mobile number:87465132456\n"
     ]
    }
   ],
   "source": [
    "Name=input(\"Enter Your Name:\")\n",
    "print(\"Welcome to my learning portel\", Name)\n",
    "DOB=input(\"Enter Your Date of Birth:\")\n",
    "Mobie_Number=input(\"Enter Your Mobile Number:\")\n",
    "Password=input(\"Create your password:\")\n",
    "if Password.isdigit():\n",
    "    print(\"Your password set sussessfully\" )\n",
    "    print(f\"Here are your details:\\nUsername: {Name}\\nPassword: {Password}\\nDate of Birth:{DOB}\\nMobile number:{Mobie_Number}\")\n",
    "\n",
    "else:\n",
    "    print(\"Your password should be in numberic only\")\n",
    "\n",
    "\n",
    "\n",
    "\n",
    "\n"
   ]
  },
  {
   "cell_type": "code",
   "execution_count": null,
   "metadata": {},
   "outputs": [
    {
     "name": "stdout",
     "output_type": "stream",
     "text": [
      "Y\n",
      "U\n",
      "V\n",
      "A\n",
      " \n",
      "A\n",
      "M\n",
      "A\n",
      "L\n"
     ]
    }
   ],
   "source": [
    "#loop####\n",
    "for X in input():\n",
    "    print(X.upper())\n"
   ]
  },
  {
   "cell_type": "code",
   "execution_count": 7,
   "metadata": {},
   "outputs": [
    {
     "name": "stdout",
     "output_type": "stream",
     "text": [
      "0\n",
      "1\n",
      "2\n",
      "3\n",
      "4\n",
      "5\n",
      "6\n",
      "7\n",
      "8\n",
      "9\n"
     ]
    }
   ],
   "source": [
    "for i in range(10):\n",
    "    print(i)"
   ]
  },
  {
   "cell_type": "code",
   "execution_count": 29,
   "metadata": {},
   "outputs": [
    {
     "name": "stdout",
     "output_type": "stream",
     "text": [
      "S.r:0\n",
      "S.r:1\n",
      "S.r:2\n",
      "S.r:3\n",
      "S.r:4\n",
      "S.r:5\n",
      "S.r:6\n",
      "S.r:7\n",
      "S.r:8\n",
      "S.r:9\n"
     ]
    }
   ],
   "source": [
    "for i in range(10):\n",
    "    print(f\"S.r:{i}\")\n"
   ]
  },
  {
   "cell_type": "code",
   "execution_count": 16,
   "metadata": {},
   "outputs": [
    {
     "name": "stdout",
     "output_type": "stream",
     "text": [
      "SUVITHAR\n"
     ]
    }
   ],
   "source": [
    "i=input()\n",
    "print(\"\".join([i.upper()]))\n",
    "\n"
   ]
  },
  {
   "cell_type": "code",
   "execution_count": 38,
   "metadata": {},
   "outputs": [
    {
     "name": "stdout",
     "output_type": "stream",
     "text": [
      "A\n",
      "M\n",
      "A\n",
      "L\n",
      "D\n",
      "A\n",
      "A\n",
      "S\n",
      "Your word Count is :8\n"
     ]
    }
   ],
   "source": [
    "co=0\n",
    "for x in input():\n",
    "    print(x.upper())\n",
    "    co=co+1\n",
    "print(f\"Your word Count is :{co}\")"
   ]
  },
  {
   "cell_type": "code",
   "execution_count": 22,
   "metadata": {},
   "outputs": [
    {
     "name": "stdout",
     "output_type": "stream",
     "text": [
      "Good Morning Sweet Heart\n",
      "Good Morning Sweet Heart\n",
      "Good Morning Sweet Heart\n",
      "Good Morning Sweet Heart\n",
      "Good Morning Sweet Heart\n",
      "Good Morning Sweet Heart\n",
      "Good Morning Sweet Heart\n",
      "Good Morning Sweet Heart\n",
      "Good Morning Sweet Heart\n",
      "Your Good morning Count is:10\n"
     ]
    }
   ],
   "source": [
    "#nested For and while loop\n",
    "# while loop is condition based working\n",
    "# for loop is we know the end \n",
    "count=1\n",
    "\n",
    "while count<10:\n",
    "  print(\"Good Morning Sweet Heart\")\n",
    "  count=count+1\n",
    "  if count == 10:\n",
    "       break\n",
    "\n",
    "print(f\"Your Good morning Count is:{count}\")\n",
    "\n"
   ]
  },
  {
   "cell_type": "code",
   "execution_count": 7,
   "metadata": {},
   "outputs": [
    {
     "name": "stdout",
     "output_type": "stream",
     "text": [
      "Agni1 Ready to launch\n",
      "Location is set.\n",
      "Good to go! Agni1 launched.\n"
     ]
    }
   ],
   "source": [
    "while True:\n",
    "    missile = input(\"Enter the missile name: \")\n",
    "    \n",
    "    if missile == \"Agni1\":\n",
    "        print(\"Agni1 Ready to launch\")\n",
    "        password = input(\"Enter the password: \")\n",
    "        \n",
    "        if password == \"Kalam\":\n",
    "            location = input(\"Please tell me the launch location: \")\n",
    "            if location == \"PAK\":\n",
    "                print(\"Location is set.\")\n",
    "                confirmation = input(\"Are you sure you want to launch the missile? (Yes/No): \")\n",
    "                if confirmation.lower() == \"yes\":\n",
    "                    print(\"Good to go! Agni1 launched.\")\n",
    "                elif confirmation.lower() == \"no\":\n",
    "                    print(\"Launch aborted. Missile stopped.\")\n",
    "                else:\n",
    "                    print(\"Invalid confirmation input. Missile launch aborted.\")\n",
    "            else:\n",
    "                print(\"Location is wrong.\")\n",
    "        else:\n",
    "            print(\"Incorrect password. Launch aborted.\")\n",
    "        break  # Exit the loop after handling the launch sequence.\n",
    "    else:\n",
    "        print(f\"We don't have this type of missile: {missile}\")\n"
   ]
  },
  {
   "cell_type": "code",
   "execution_count": 18,
   "metadata": {},
   "outputs": [
    {
     "name": "stdout",
     "output_type": "stream",
     "text": [
      "AmalDass*,*DuriArashu*,*ArulMozhi\n"
     ]
    }
   ],
   "source": [
    "Result=\"\"\n",
    "for i in[\"Amal\",\"Duri\",\"Arul\"]:\n",
    "    for j in [\"Dass\",\"Arashu\",\"Mozhi\"]:\n",
    "        if [\"Amal\",\"Duri\",\"Arul\"].index(i)==[\"Dass\",\"Arashu\",\"Mozhi\"].index(j):\n",
    "            if Result:\n",
    "                Result+=\"*,*\"\n",
    "            Result+=f\"{i}{j}\"\n",
    "print(Result)\n"
   ]
  },
  {
   "cell_type": "code",
   "execution_count": 19,
   "metadata": {},
   "outputs": [
    {
     "name": "stdout",
     "output_type": "stream",
     "text": [
      "['rajinikhant', 'kamalhassan', 'aliabhat']\n"
     ]
    }
   ],
   "source": [
    "actor=[]\n",
    "for i in ['rajini','kamal','alia']:\n",
    "    for j in ['khant','hassan','bhat']:\n",
    "        actor.append(i+j)\n",
    "print(actor[0:9:4])\n"
   ]
  },
  {
   "cell_type": "code",
   "execution_count": 30,
   "metadata": {},
   "outputs": [
    {
     "name": "stdout",
     "output_type": "stream",
     "text": [
      "TODAY IS WEDNESDAY\n",
      "today is wednesday\n",
      "Today is wednesday\n",
      "False\n",
      "True\n",
      "1\n",
      "3\n",
      "Today is Thaursday\n",
      "False\n",
      "True\n",
      "-1\n",
      "False\n",
      "False\n",
      "['Today', 'is', 'Wednesday']\n",
      "T*o*d*a*y* *i*s* *W*e*d*n*e*s*d*a*y\n"
     ]
    }
   ],
   "source": [
    "# String operations\n",
    "a = \"Today is Wednesday\"\n",
    "b = \"abcd123\"\n",
    "\n",
    "# Convert to uppercase\n",
    "print(a.upper())  # Output: TODAY IS WEDNESDAY\n",
    "\n",
    "# Convert to lowercase\n",
    "print(a.lower())  # Output: today is wednesday\n",
    "\n",
    "# Capitalize the first character\n",
    "print(a.capitalize())  # Output: Today is wednesday\n",
    "\n",
    "# Check if all characters in `a` are alphabetic\n",
    "print(a.isalpha())  # Output: False\n",
    "\n",
    "# Check if all characters in `b` are alphanumeric\n",
    "print(b.isalnum())  # Output: True\n",
    "\n",
    "# Count occurrences of \"is\" in `a`\n",
    "print(a.count(\"is\"))  # Output: 1\n",
    "\n",
    "# Find the index of the first occurrence of \"a\" in `a`\n",
    "print(a.index(\"a\"))  # Output: 3\n",
    "\n",
    "print(a.replace(\"Wednesday\",\"Thaursday\"))\n",
    "print(a.startswith(\"day\"))\n",
    "print(a.endswith(\"day\"))\n",
    "print(a.find(\"z\"))\n",
    "print(a.isupper())\n",
    "print(a.islower())\n",
    "print(a.split())\n",
    "print(\"*\".join(a))\n"
   ]
  },
  {
   "cell_type": "code",
   "execution_count": 40,
   "metadata": {},
   "outputs": [
    {
     "name": "stdout",
     "output_type": "stream",
     "text": [
      "\\n How are you Amal?\n",
      "\n",
      " how are you Amal?\n",
      "\n",
      " welcome to learning portal Amaldass\n",
      " username:Amaldass\n",
      " Date of birth:01-Sep-1996\n"
     ]
    }
   ],
   "source": [
    "#string Formating\n",
    "a=input(\"Enter Your Name:\")\n",
    "b=input(\"Enter date of barth:\")\n",
    "print(r\"\\n How are you Amal?\") # r means raw string ,\\n means new line\n",
    "print(f\"\\n how are you Amal?\") # f means formated string\n",
    "print(f\"\\n welcome to learning portal {a}\\n username:{a}\\n Date of birth:{b}\")\n"
   ]
  },
  {
   "cell_type": "code",
   "execution_count": 6,
   "metadata": {},
   "outputs": [
    {
     "name": "stdout",
     "output_type": "stream",
     "text": [
      "How a\n",
      "ow are Yo\n",
      "H eoalsGia\n",
      "nadnivoG ssadlama uoY era woH\n"
     ]
    }
   ],
   "source": [
    "a=\"How are You amaldass Govindan\"\n",
    "\n",
    "print(a[0:5])\n",
    "print(a[1:10])\n",
    "print(a[::3])\n",
    "print(a[::-1])"
   ]
  },
  {
   "cell_type": "code",
   "execution_count": 8,
   "metadata": {},
   "outputs": [
    {
     "name": "stdout",
     "output_type": "stream",
     "text": [
      "How are you amaldass govindan\n"
     ]
    }
   ],
   "source": [
    "b=\"nadnivoG ssadlama uoY era woH\"\n",
    "print(b[::-1].capitalize())"
   ]
  },
  {
   "cell_type": "code",
   "execution_count": 18,
   "metadata": {},
   "outputs": [
    {
     "name": "stdout",
     "output_type": "stream",
     "text": [
      "['Today', 'Yesterday', 'tomorrow']\n",
      "[1, 1.2, 23456, 'amaldass', [145, 0.2545]]\n",
      "0.2545\n"
     ]
    }
   ],
   "source": [
    "# List and its Operation \n",
    "\n",
    "a=[\"Today\",\"Yesterday\",\"tomorrow\"]\n",
    "b=[1,1.2,23456,\"amaldass\",[145,0.2545]]\n",
    "print(a)\n",
    "print(b)\n",
    "print(b[4][1])\n",
    "\n"
   ]
  },
  {
   "cell_type": "code",
   "execution_count": 2,
   "metadata": {},
   "outputs": [
    {
     "name": "stdout",
     "output_type": "stream",
     "text": [
      "[1, 2, 3]\n",
      "[1, 2, 3, 'Amaldass Govianda', 'Murali', 'Suvithara', 'Yogi', 'Mithra']\n",
      "1\n",
      "[1, 'i love you', 2, 3, 'Amaldass Govianda', 'Murali', 'Suvithara', 'Yogi', 'Mithra']\n"
     ]
    }
   ],
   "source": [
    "#list is mutable (Muteable means in list we able to change )\n",
    "\n",
    "a=[1,2,3]\n",
    "print(a)\n",
    "a.append(\"Amaldass Govianda\")\n",
    "a.extend([\"Murali\",\"Suvithara\",\"Yogi\",\"Mithra\"])\n",
    "print(a)\n",
    "a[3]+ \" Suvithra\"\n",
    "print(a.count(\"Suvithara\"))\n",
    "a.insert(1,\"i love you\")\n",
    "print(a)\n"
   ]
  },
  {
   "cell_type": "code",
   "execution_count": 1,
   "metadata": {},
   "outputs": [
    {
     "name": "stdout",
     "output_type": "stream",
     "text": [
      "[1, 2, 3, 4, 5, 6, 7, 8, 9, 10, 200, 300, 500]\n",
      "[500, 300, 200, 10, 9, 8, 7, 6, 5, 4, 3, 2, 1]\n",
      "[1, 2, 3, 4, 5, 6, 7, 8, 9, 10, 200, 300, 500]\n",
      "[1, 2, 3, 4, 5, 6, 7, 8, 9, 200, 300, 500]\n",
      "[1, 2, 3, 4, 5, 6, 7, 8, 9, 200, 500]\n",
      "300\n"
     ]
    }
   ],
   "source": [
    "a=[1,500,200,300,2,3,6,4,8,5,10,7,9]\n",
    "a.sort()\n",
    "print(a)\n",
    "a.sort(reverse=True)\n",
    "print(a)\n",
    "a.sort(reverse=False)\n",
    "print(a)\n",
    "a.remove(10)\n",
    "print(a)\n",
    "f=a.pop(10)\n",
    "print(a)\n",
    "print(f)"
   ]
  },
  {
   "cell_type": "code",
   "execution_count": 3,
   "metadata": {},
   "outputs": [
    {
     "name": "stdout",
     "output_type": "stream",
     "text": [
      "{1, 2, 4, 5, 6, 11, 45, 88888, 23, 888, 88}\n"
     ]
    }
   ],
   "source": [
    "#set(using for unique values)\n",
    "\n",
    "a={1,1,11,1,1,1,1,1,1,1,2,2,2,2,2,23,4,45,5,6,6,6,88888,88,888,88888}\n",
    "print(a)\n",
    "\n"
   ]
  },
  {
   "cell_type": "code",
   "execution_count": 1,
   "metadata": {},
   "outputs": [
    {
     "name": "stdout",
     "output_type": "stream",
     "text": [
      "Amaldass\n",
      "01-09-1996\n",
      "Tamil\n",
      "Amaldass\n",
      "dict_keys(['Name', 'Dob', 'Language'])\n",
      "dict_values(['Amaldass', '01-09-1996', 'Tamil'])\n",
      "dict_items([('Name', 'Amaldass'), ('Dob', '01-09-1996'), ('Language', 'Tamil')])\n"
     ]
    }
   ],
   "source": [
    "#dictionary  no duplicate ,keywords : values\n",
    "a={\"Name\":\"Amaldass\",\"Dob\":\"01-09-1996\",\"Language\":\"Tamil\"}\n",
    "b=['Name', 'Dob', 'Language']\n",
    "for key in b:\n",
    "    print(a[key])\n",
    "print(a.get(\"Name\"))\n",
    "print(a.keys())\n",
    "print(a.values())\n",
    "print(a.items())\n"
   ]
  },
  {
   "cell_type": "code",
   "execution_count": 1,
   "metadata": {},
   "outputs": [
    {
     "data": {
      "text/plain": [
       "'Amaldass welcome to learning Define Function'"
      ]
     },
     "execution_count": 1,
     "metadata": {},
     "output_type": "execute_result"
    }
   ],
   "source": [
    "#Functions\n",
    "\n",
    "# Moto * we create own funtions\n",
    "\n",
    "# 1 st we need to define the funtion thats is (def)\n",
    "def amal():\n",
    "    return\"Amaldass welcome to learning Define Function\"\n",
    "amal()\n"
   ]
  },
  {
   "cell_type": "code",
   "execution_count": 5,
   "metadata": {},
   "outputs": [
    {
     "name": "stdout",
     "output_type": "stream",
     "text": [
      "99\n"
     ]
    },
    {
     "data": {
      "text/plain": [
       "'This is odd number'"
      ]
     },
     "execution_count": 5,
     "metadata": {},
     "output_type": "execute_result"
    }
   ],
   "source": [
    "def add(num1,num2):\n",
    "    return num1+num2\n",
    "def evenodd(num):\n",
    "    if num%2==0:\n",
    "     return\"This is even number\"\n",
    "    else:\n",
    "        return \"This is odd number\"\n",
    "b=int(input(\"Enter the Number:\"))\n",
    "c=int(input(\"Enter the Number:\"))\n",
    "a=add(b,c)\n",
    "print(a)\n",
    "evenodd(a)"
   ]
  },
  {
   "cell_type": "code",
   "execution_count": 8,
   "metadata": {},
   "outputs": [
    {
     "name": "stdout",
     "output_type": "stream",
     "text": [
      "Hi Amaldass Your age is 28 Today date is 21\n",
      "Hi Suvi Your age is 29 Today date is 22\n"
     ]
    }
   ],
   "source": [
    "def amal(Name,DOB,CD=21):\n",
    "    age=2024-DOB\n",
    "    return f\"Hi {Name} Your age is {age} Today date is {CD}\"\n",
    "print(amal(\"Amaldass\",1996))\n",
    "print(amal(Name=\"Suvi\",CD=22,DOB=1995))\n"
   ]
  },
  {
   "cell_type": "code",
   "execution_count": 26,
   "metadata": {},
   "outputs": [
    {
     "name": "stdout",
     "output_type": "stream",
     "text": [
      "1\n",
      "2\n",
      "3\n",
      "4\n",
      "5\n",
      "6\n",
      "7\n",
      "8\n",
      "9\n",
      "10\n",
      "12\n"
     ]
    },
    {
     "data": {
      "text/plain": [
       "567"
      ]
     },
     "execution_count": 26,
     "metadata": {},
     "output_type": "execute_result"
    }
   ],
   "source": [
    " # variable argument\n",
    "\n",
    "def ama(*a): # * means *types of name 1.Multiplication 2.everything 3.unpacking(Now see 2nd one)\n",
    "    s=500\n",
    "    for i in a:\n",
    "        print(i)\n",
    "        s=s+i\n",
    "    return s\n",
    "        \n",
    "ama(1,2,3,4,5,6,7,8,9,10,12)"
   ]
  },
  {
   "cell_type": "code",
   "execution_count": 41,
   "metadata": {},
   "outputs": [
    {
     "name": "stdout",
     "output_type": "stream",
     "text": [
      "['name', 'language', 'state']\n",
      "['amal', 'TAM', 'TN']\n",
      "('name', 'amal')\n",
      "('language', 'TAM')\n",
      "('state', 'TN')\n"
     ]
    }
   ],
   "source": [
    "# variable Key word arguments\n",
    "def ama(**b):\n",
    "    print(list(b.keys()))\n",
    "    print(list(b.values()))\n",
    "    for i in b.items():\n",
    "        print(i)\n",
    "ama(name=\"amal\",language=\"TAM\",state=\"TN\")"
   ]
  },
  {
   "cell_type": "code",
   "execution_count": null,
   "metadata": {},
   "outputs": [],
   "source": [
    "def Carproducts(Company,Make,Fuel,variant,Colour,year):\n",
    "    return\"Carproducts\"\n"
   ]
  },
  {
   "cell_type": "code",
   "execution_count": null,
   "metadata": {},
   "outputs": [
    {
     "name": "stdout",
     "output_type": "stream",
     "text": [
      "not\n"
     ]
    }
   ],
   "source": [
    " # class & objects\n",
    "# recursive Function\n",
    "# lambda ,map & filter\n",
    "#pip\n",
    "#json\n",
    "#file and folder handling\n",
    "#error handling\n",
    "#pickling\n"
   ]
  },
  {
   "cell_type": "code",
   "execution_count": 46,
   "metadata": {},
   "outputs": [],
   "source": [
    "# class & objects\n",
    "#like its is OOPS(object oriated programing)\n",
    "class Laptop():\n",
    "    \n",
    "    model=\"HP Laptop\"\n",
    "    battery=\"10 hrs\"\n",
    "    \n",
    "\n"
   ]
  },
  {
   "cell_type": "code",
   "execution_count": 48,
   "metadata": {},
   "outputs": [
    {
     "name": "stdout",
     "output_type": "stream",
     "text": [
      "HP Laptop\n",
      "10 hrs\n"
     ]
    }
   ],
   "source": [
    "a=Laptop()\n",
    "print(a.model)\n",
    "print(a.battery)\n"
   ]
  },
  {
   "cell_type": "code",
   "execution_count": 3,
   "metadata": {},
   "outputs": [],
   "source": [
    "class Bankaccount():\n",
    "    def __init__(self,name,balance):\n",
    "        self.name=name\n",
    "        self.balance=balance\n",
    "    def deposit(self,amount):\n",
    "        self.balance=self.balance+amount\n",
    "        return self.balance"
   ]
  },
  {
   "cell_type": "code",
   "execution_count": 4,
   "metadata": {},
   "outputs": [],
   "source": [
    "amaldass=Bankaccount(\"amaldass\",200000)\n",
    "Suvi=Bankaccount(\"suvi murali\",300000)\n"
   ]
  },
  {
   "cell_type": "code",
   "execution_count": 5,
   "metadata": {},
   "outputs": [
    {
     "data": {
      "text/plain": [
       "300000"
      ]
     },
     "execution_count": 5,
     "metadata": {},
     "output_type": "execute_result"
    }
   ],
   "source": [
    "Suvi.balance"
   ]
  },
  {
   "cell_type": "code",
   "execution_count": null,
   "metadata": {},
   "outputs": [],
   "source": []
  }
 ],
 "metadata": {
  "kernelspec": {
   "display_name": ".venv",
   "language": "python",
   "name": "python3"
  },
  "language_info": {
   "codemirror_mode": {
    "name": "ipython",
    "version": 3
   },
   "file_extension": ".py",
   "mimetype": "text/x-python",
   "name": "python",
   "nbconvert_exporter": "python",
   "pygments_lexer": "ipython3",
   "version": "3.13.1"
  }
 },
 "nbformat": 4,
 "nbformat_minor": 2
}
